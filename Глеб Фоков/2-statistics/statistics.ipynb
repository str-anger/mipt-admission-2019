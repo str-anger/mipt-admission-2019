{
 "cells": [
  {
   "cell_type": "markdown",
   "metadata": {},
   "source": [
    "**Статистическая гипотеза.** У вас есть [файл](https://pastebin.com/kzT57TSK) с данными о времени ответа утилиты ping. Сформулируйте гипотезу о распределении времени ответа. Протестируйте гипотезу с помощью любого известного вам критерия. Проинтерпретируйте результат."
   ]
  },
  {
   "cell_type": "code",
   "execution_count": null,
   "metadata": {
    "scrolled": true
   },
   "outputs": [],
   "source": [
    "! if [ ! -e kzT57TSK.txt ]; then curl https://pastebin.com/raw/kzT57TSK --output kzT57TSK.txt; fi;\n",
    "! pip install numpy matplotlib scipy"
   ]
  },
  {
   "cell_type": "code",
   "execution_count": 1,
   "metadata": {},
   "outputs": [],
   "source": [
    "import re\n",
    "\n",
    "import numpy as np\n",
    "import scipy.stats as st\n",
    "\n",
    "import matplotlib.pyplot as plt\n",
    "%matplotlib inline"
   ]
  },
  {
   "cell_type": "code",
   "execution_count": 2,
   "metadata": {},
   "outputs": [],
   "source": [
    "ping_string_pattern = r\"(?P<size>\\d*) bytes from (?P<ip>\\d{1,3}\\.\\d{1,3}\\.\\d{1,3}\\.\\d{1,3}) \\((?P=ip)\\): icmp_seq=(?P<icmp_seq>\\d*) ttl=(?P<ttl>\\d*) time=(?P<time_ms>\\d*\\.\\d) ms\"\n",
    "ping_str_regexp = re.compile(ping_string_pattern)\n",
    "\n",
    "times = []\n",
    "\n",
    "with open(\"kzT57TSK.txt\") as f:\n",
    "    for l in f:\n",
    "        times.append(float(ping_str_regexp.search(l)['time_ms']))"
   ]
  },
  {
   "cell_type": "markdown",
   "metadata": {},
   "source": [
    "Гипотеза: задержка имеет exponentiated Weibull distribution (основана на https://stats.stackexchange.com/a/1325)"
   ]
  },
  {
   "cell_type": "markdown",
   "metadata": {},
   "source": [
    "Проверим гипотезу на уровне значимости $\\alpha=0.05$ с помощью [Kolmogorov–Smirnov test](https://en.wikipedia.org/wiki/Kolmogorov–Smirnov_test)."
   ]
  },
  {
   "cell_type": "code",
   "execution_count": 3,
   "metadata": {},
   "outputs": [
    {
     "data": {
      "image/png": "[encoded data removed]",
      "text/plain": [
       "<Figure size 432x288 with 1 Axes>"
      ]
     },
     "metadata": {
      "needs_background": "light"
     },
     "output_type": "display_data"
    },
    {
     "name": "stdout",
     "output_type": "stream",
     "text": [
      "True\n"
     ]
    }
   ],
   "source": [
    "n = len(times)\n",
    "dist = st.exponweib(*st.exponweib.fit(times))\n",
    "\n",
    "x = np.linspace(40,60,100)\n",
    "plt.plot(x, dist.pdf(x))\n",
    "plt.hist(times, weights=(1/n,)*n)\n",
    "plt.show()\n",
    "\n",
    "print(st.kstest(times, dist.cdf).statistic < 1.36/np.sqrt(n))"
   ]
  }
 ],
 "metadata": {
  "kernelspec": {
   "display_name": "Python 3",
   "language": "python",
   "name": "python3"
  },
  "language_info": {
   "codemirror_mode": {
    "name": "ipython",
    "version": 3
   },
   "file_extension": ".py",
   "mimetype": "text/x-python",
   "name": "python",
   "nbconvert_exporter": "python",
   "pygments_lexer": "ipython3",
   "version": "3.6.7"
  }
 },
 "nbformat": 4,
 "nbformat_minor": 2
}
