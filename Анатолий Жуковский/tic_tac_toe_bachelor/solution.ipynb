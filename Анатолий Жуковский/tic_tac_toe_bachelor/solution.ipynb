{
 "cells": [
  {
   "cell_type": "code",
   "execution_count": 1,
   "metadata": {},
   "outputs": [],
   "source": [
    "from tqdm import tqdm\n",
    "import itertools\n",
    "import math\n",
    "import numpy as np"
   ]
  },
  {
   "cell_type": "markdown",
   "metadata": {},
   "source": [
    "# Условие\n",
    "\n",
    "Крестики-нолики. Оцените как можно точнее число возможных полей, возникающих в игре крестики-нолики 3×3. Приведите решение."
   ]
  },
  {
   "cell_type": "code",
   "execution_count": 2,
   "metadata": {},
   "outputs": [],
   "source": [
    "def get_i_j(square_number):\n",
    "    return (square_number // 3, square_number % 3)"
   ]
  },
  {
   "cell_type": "code",
   "execution_count": 3,
   "metadata": {},
   "outputs": [],
   "source": [
    "def check_winning_condition(desk, player, i, j):\n",
    "    return ((player == desk[i][0] == desk[i][1] == desk[i][2]) or\n",
    "            (player == desk[0][j] == desk[1][j] == desk[2][j]) or\n",
    "            (player == desk[0][0] == desk[1][1] == desk[2][2]) or\n",
    "            (player == desk[0][2] == desk[1][1] == desk[2][0]))"
   ]
  },
  {
   "cell_type": "markdown",
   "metadata": {},
   "source": [
    "# 1-й вариант подсчёта числа возможных полей"
   ]
  },
  {
   "cell_type": "markdown",
   "metadata": {},
   "source": [
    "https://en.wikipedia.org/wiki/Tic-tac-toe#Combinatorics\n",
    "\n",
    "When considering only the state of the board, and after taking into account board symmetries (i.e. rotations and reflections), there are only 138 terminal board positions.\n",
    "\n",
    "При рассмотрении только состояний поля после учета симметрии поля (то есть поворотов и отражений) остается только 138 **терминальных** позиций (т.е. тех в которых наступает победа одного из игроков либо ничья)."
   ]
  },
  {
   "cell_type": "code",
   "execution_count": 4,
   "metadata": {},
   "outputs": [],
   "source": [
    "def add_desk(desk, desks):\n",
    "    if not (\n",
    "        (tuple(map(tuple, np.rot90(desk, 0)))) in desks or\n",
    "        (tuple(map(tuple, np.rot90(desk, 1)))) in desks or\n",
    "        (tuple(map(tuple, np.rot90(desk, 2)))) in desks or\n",
    "        (tuple(map(tuple, np.rot90(desk, 3)))) in desks or\n",
    "        (tuple(map(tuple, np.rot90(desk.T, 0)))) in desks or\n",
    "        (tuple(map(tuple, np.rot90(desk.T, 1)))) in desks or\n",
    "        (tuple(map(tuple, np.rot90(desk.T, 2)))) in desks or\n",
    "        (tuple(map(tuple, np.rot90(desk.T, 3)))) in desks\n",
    "            ):\n",
    "        desks.add(tuple(map(tuple, desk)))"
   ]
  },
  {
   "cell_type": "code",
   "execution_count": 5,
   "metadata": {},
   "outputs": [
    {
     "name": "stderr",
     "output_type": "stream",
     "text": [
      "100%|██████████| 362880/362880 [00:25<00:00, 14290.16it/s]\n"
     ]
    }
   ],
   "source": [
    "desks_set_first = set()\n",
    "\n",
    "for perm in tqdm(list(itertools.permutations(range(9)))):\n",
    "    desk = np.array([[5, 5, 5], [5, 5, 5], [5, 5, 5]])\n",
    "    for n, step in enumerate(perm):\n",
    "        player, i, j = (n % 2, *get_i_j(step))\n",
    "        desk[i][j] = player\n",
    "        if check_winning_condition(desk, player, i, j) or n == 8:\n",
    "            add_desk(desk, desks_set_first)\n",
    "            break"
   ]
  },
  {
   "cell_type": "code",
   "execution_count": 6,
   "metadata": {},
   "outputs": [
    {
     "data": {
      "text/plain": [
       "138"
      ]
     },
     "execution_count": 6,
     "metadata": {},
     "output_type": "execute_result"
    }
   ],
   "source": [
    "len(desks_set_first)"
   ]
  },
  {
   "cell_type": "markdown",
   "metadata": {},
   "source": [
    "# 2-й вариант подсчёта числа возможных полей"
   ]
  },
  {
   "cell_type": "markdown",
   "metadata": {},
   "source": [
    "При рассмотрении только состояний поля после учета симметрии поля (то есть поворотов и отражений) остается только 764 **терминальных и промежуточных** позиций, без учёта пустого поля."
   ]
  },
  {
   "cell_type": "code",
   "execution_count": 7,
   "metadata": {},
   "outputs": [
    {
     "name": "stderr",
     "output_type": "stream",
     "text": [
      "100%|██████████| 362880/362880 [01:57<00:00, 3096.81it/s]\n"
     ]
    }
   ],
   "source": [
    "desks_set_second = set()\n",
    "\n",
    "for perm in tqdm(list(itertools.permutations(range(9)))):\n",
    "    desk = np.array([[5, 5, 5], [5, 5, 5], [5, 5, 5]])\n",
    "    for n, step in enumerate(perm):\n",
    "        player, i, j = (n % 2, *get_i_j(step))\n",
    "        desk[i][j] = player\n",
    "        add_desk(desk, desks_set_second)\n",
    "        if check_winning_condition(desk, player, i, j):\n",
    "            break"
   ]
  },
  {
   "cell_type": "code",
   "execution_count": 8,
   "metadata": {
    "scrolled": true
   },
   "outputs": [
    {
     "data": {
      "text/plain": [
       "764"
      ]
     },
     "execution_count": 8,
     "metadata": {},
     "output_type": "execute_result"
    }
   ],
   "source": [
    "len(desks_set_second)"
   ]
  },
  {
   "cell_type": "code",
   "execution_count": 9,
   "metadata": {
    "scrolled": true
   },
   "outputs": [
    {
     "data": {
      "text/plain": [
       "True"
      ]
     },
     "execution_count": 9,
     "metadata": {},
     "output_type": "execute_result"
    }
   ],
   "source": [
    "desks_set_first.issubset(desks_set_second)"
   ]
  }
 ],
 "metadata": {
  "kernelspec": {
   "display_name": "Python 3",
   "language": "python",
   "name": "python3"
  },
  "language_info": {
   "codemirror_mode": {
    "name": "ipython",
    "version": 3
   },
   "file_extension": ".py",
   "mimetype": "text/x-python",
   "name": "python",
   "nbconvert_exporter": "python",
   "pygments_lexer": "ipython3",
   "version": "3.6.8"
  }
 },
 "nbformat": 4,
 "nbformat_minor": 2
}
